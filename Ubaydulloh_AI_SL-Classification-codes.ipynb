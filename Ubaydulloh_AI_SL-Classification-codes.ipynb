{
  "nbformat": 4,
  "nbformat_minor": 0,
  "metadata": {
    "colab": {
      "name": "Ubaydulloh[22212410]_AI_Intro_ass2.ipynb",
      "provenance": [],
      "collapsed_sections": []
    },
    "kernelspec": {
      "name": "python3",
      "display_name": "Python 3"
    },
    "language_info": {
      "name": "python"
    }
  },
  "cells": [
    {
      "cell_type": "markdown",
      "source": [
        "# 1. How many observations are in the data?"
      ],
      "metadata": {
        "id": "Iiw_NSxVCi1Z"
      }
    },
    {
      "cell_type": "code",
      "execution_count": null,
      "metadata": {
        "id": "c2MYv1PGrvA_"
      },
      "outputs": [],
      "source": [
        "import numpy as np\n",
        "import pandas as pd\n",
        "import sklearn"
      ]
    },
    {
      "cell_type": "code",
      "source": [
        "data = pd.read_csv('/content/column_2C.csv')"
      ],
      "metadata": {
        "id": "MLKFDq0S2vt1"
      },
      "execution_count": null,
      "outputs": []
    },
    {
      "cell_type": "code",
      "source": [
        "data.head\n",
        "# in target class: 1 = abnormal, 0 = normal"
      ],
      "metadata": {
        "colab": {
          "base_uri": "https://localhost:8080/"
        },
        "id": "y52kJNR129zu",
        "outputId": "f0e2fe77-b3c1-45e6-ad3b-1097ba789fb9"
      },
      "execution_count": null,
      "outputs": [
        {
          "output_type": "execute_result",
          "data": {
            "text/plain": [
              "<bound method NDFrame.head of      pelvic_incidence  pelvic_tilt  lumbar_lordosis_angle  sacral_slope  \\\n",
              "0           63.027817    22.552586              39.609117     40.475232   \n",
              "1           39.056951    10.060991              25.015378     28.995960   \n",
              "2           68.832021    22.218482              50.092194     46.613539   \n",
              "3           69.297008    24.652878              44.311238     44.644130   \n",
              "4           49.712859     9.652075              28.317406     40.060784   \n",
              "..                ...          ...                    ...           ...   \n",
              "305         47.903565    13.616688              36.000000     34.286877   \n",
              "306         53.936748    20.721496              29.220534     33.215251   \n",
              "307         61.446597    22.694968              46.170347     38.751628   \n",
              "308         45.252792     8.693157              41.583126     36.559635   \n",
              "309         33.841641     5.073991              36.641233     28.767649   \n",
              "\n",
              "     pelvic_radius  degree_spondylolisthesis     class  \n",
              "0        98.672917                 -0.254400  Abnormal  \n",
              "1       114.405425                  4.564259  Abnormal  \n",
              "2       105.985135                 -3.530317  Abnormal  \n",
              "3       101.868495                 11.211523  Abnormal  \n",
              "4       108.168725                  7.918501  Abnormal  \n",
              "..             ...                       ...       ...  \n",
              "305     117.449062                 -4.245395    Normal  \n",
              "306     114.365845                 -0.421010    Normal  \n",
              "307     125.670725                 -2.707880    Normal  \n",
              "308     118.545842                  0.214750    Normal  \n",
              "309     123.945244                 -0.199249    Normal  \n",
              "\n",
              "[310 rows x 7 columns]>"
            ]
          },
          "metadata": {},
          "execution_count": 48
        }
      ]
    },
    {
      "cell_type": "code",
      "source": [
        "data.shape"
      ],
      "metadata": {
        "colab": {
          "base_uri": "https://localhost:8080/"
        },
        "id": "I0Pcba28uRep",
        "outputId": "07879e10-03a2-476b-b453-d851e3623dee"
      },
      "execution_count": null,
      "outputs": [
        {
          "output_type": "execute_result",
          "data": {
            "text/plain": [
              "(310, 7)"
            ]
          },
          "metadata": {},
          "execution_count": 46
        }
      ]
    },
    {
      "cell_type": "markdown",
      "source": [
        "*There are 310 observations in the data for 7 variables with the class of orthopedic patients*"
      ],
      "metadata": {
        "id": "Xp0NCPoVudsU"
      }
    },
    {
      "cell_type": "markdown",
      "source": [
        "# 2 Build a logistic regression model. Examine whether the scaling improves the fit of the model. You can choose any scaling method for the examination. "
      ],
      "metadata": {
        "id": "3jXWNdu3CCDA"
      }
    },
    {
      "cell_type": "code",
      "source": [
        "# divide data into x and y\n",
        "# split data into training and test (30%)\n",
        "X=data.drop(['class'], axis='columns')\n",
        "y=data['class']\n",
        "\n",
        "from sklearn.model_selection import train_test_split\n",
        "X_train, X_test, y_train, y_test = train_test_split(X,y,test_size=0.3,random_state = 0)"
      ],
      "metadata": {
        "id": "86AwuYX7uXmZ"
      },
      "execution_count": null,
      "outputs": []
    },
    {
      "cell_type": "code",
      "source": [
        "# build model and train the model with training set\n",
        "from sklearn.linear_model import LogisticRegression\n",
        "logis = LogisticRegression()\n",
        "logis.fit(X_train, y_train)"
      ],
      "metadata": {
        "colab": {
          "base_uri": "https://localhost:8080/"
        },
        "id": "IMTdTZ4buajh",
        "outputId": "5ba464cb-dbe9-4d7e-da04-9587fc4546d0"
      },
      "execution_count": null,
      "outputs": [
        {
          "output_type": "execute_result",
          "data": {
            "text/plain": [
              "LogisticRegression()"
            ]
          },
          "metadata": {},
          "execution_count": 51
        }
      ]
    },
    {
      "cell_type": "code",
      "source": [
        "# Coefficients\n",
        "df=pd.DataFrame(logis.coef_.T, X.columns,columns=['Coefficient'])\n",
        "print(df)"
      ],
      "metadata": {
        "colab": {
          "base_uri": "https://localhost:8080/"
        },
        "id": "q59eQ0i93YKr",
        "outputId": "637a56d7-4d7c-4169-c3f1-e998415b2d37"
      },
      "execution_count": null,
      "outputs": [
        {
          "output_type": "stream",
          "name": "stdout",
          "text": [
            "                          Coefficient\n",
            "pelvic_incidence             0.003495\n",
            "pelvic_tilt                 -0.077930\n",
            "lumbar_lordosis_angle        0.042184\n",
            "sacral_slope                 0.081395\n",
            "pelvic_radius                0.120309\n",
            "degree_spondylolisthesis    -0.198046\n"
          ]
        }
      ]
    },
    {
      "cell_type": "code",
      "source": [
        "# accuracy\n",
        "y_pred=logis.predict(X_test)\n",
        "from sklearn import metrics\n",
        "print(\"Accuracy\",metrics.accuracy_score(y_test,y_pred))"
      ],
      "metadata": {
        "colab": {
          "base_uri": "https://localhost:8080/"
        },
        "id": "-hhYibtO9fP3",
        "outputId": "e7ce210d-8483-42a7-cd78-7b30414e3102"
      },
      "execution_count": null,
      "outputs": [
        {
          "output_type": "stream",
          "name": "stdout",
          "text": [
            "Accuracy 0.7849462365591398\n"
          ]
        }
      ]
    },
    {
      "cell_type": "code",
      "source": [
        "# Standard Scaler\n",
        "from sklearn.preprocessing import StandardScaler\n",
        "scaler = StandardScaler()\n",
        "\n",
        "scaler.fit(X_train)\n",
        "X_train_scaled = scaler.transform(X_train)\n",
        "X_test_scaled = scaler.transform(X_test)"
      ],
      "metadata": {
        "id": "cZluc2Yx-EnV"
      },
      "execution_count": null,
      "outputs": []
    },
    {
      "cell_type": "code",
      "source": [
        "# Linear regression with scale \n",
        "logis_scale = LogisticRegression() \n",
        "logis_scale.fit(X_train_scaled,y_train)"
      ],
      "metadata": {
        "colab": {
          "base_uri": "https://localhost:8080/"
        },
        "id": "YLQ0amLJ-7g1",
        "outputId": "e5df03ae-ef25-478e-a409-a2e2d26e0e53"
      },
      "execution_count": null,
      "outputs": [
        {
          "output_type": "execute_result",
          "data": {
            "text/plain": [
              "LogisticRegression()"
            ]
          },
          "metadata": {},
          "execution_count": 71
        }
      ]
    },
    {
      "cell_type": "code",
      "source": [
        "# accuracy\n",
        "y_pred=logis_scale.predict(X_test_scaled)\n",
        "print(\"Accuracy\",metrics.accuracy_score(y_test,y_pred))"
      ],
      "metadata": {
        "colab": {
          "base_uri": "https://localhost:8080/"
        },
        "id": "N-h1gVfW_Bre",
        "outputId": "f8bfe3d1-1c73-4ba3-8827-47f5544b7520"
      },
      "execution_count": null,
      "outputs": [
        {
          "output_type": "stream",
          "name": "stdout",
          "text": [
            "Accuracy 0.8172043010752689\n"
          ]
        }
      ]
    },
    {
      "cell_type": "markdown",
      "source": [
        "*Here, i have built a Logistic Regression model with 78% accuracy. And, based on the examination of feature scaling, it increases the fit of the model to 82% accuracy by 4 percentages, and i have used the Standard Scaler method for the examination.*"
      ],
      "metadata": {
        "id": "xXVgz0lcBzC5"
      }
    },
    {
      "cell_type": "markdown",
      "source": [
        "# 3 Build a K-Nearest Neighbor model. Examine whether the scaling improves the fit of the model. You can choose any scaling method for the examination. "
      ],
      "metadata": {
        "id": "Ih_8iFtwCJiw"
      }
    },
    {
      "cell_type": "code",
      "source": [
        "# build model and train the model with training set\n",
        "from sklearn.neighbors import KNeighborsClassifier\n",
        "knn = KNeighborsClassifier(n_neighbors=7)\n",
        "knn.fit(X_train, y_train)"
      ],
      "metadata": {
        "id": "qy3ISctVAYQc",
        "colab": {
          "base_uri": "https://localhost:8080/"
        },
        "outputId": "4c74d295-6412-4cb4-b2bf-2276d6b2eb8e"
      },
      "execution_count": 101,
      "outputs": [
        {
          "output_type": "execute_result",
          "data": {
            "text/plain": [
              "KNeighborsClassifier(n_neighbors=7)"
            ]
          },
          "metadata": {},
          "execution_count": 101
        }
      ]
    },
    {
      "cell_type": "code",
      "source": [
        "# accuracy\n",
        "y_pred=knn.predict(X_test)\n",
        "from sklearn import metrics\n",
        "print(\"Accuracy\",metrics.accuracy_score(y_test,y_pred))"
      ],
      "metadata": {
        "colab": {
          "base_uri": "https://localhost:8080/"
        },
        "id": "wgIeL2TqLIys",
        "outputId": "ecf6b5b0-74f0-4fa9-859e-99d22281a190"
      },
      "execution_count": 102,
      "outputs": [
        {
          "output_type": "stream",
          "name": "stdout",
          "text": [
            "Accuracy 0.8172043010752689\n"
          ]
        }
      ]
    },
    {
      "cell_type": "code",
      "source": [
        "# Standard Scaler\n",
        "from sklearn.preprocessing import StandardScaler\n",
        "scaler = StandardScaler()\n",
        "\n",
        "scaler.fit(X_train)\n",
        "X_train_scaled = scaler.transform(X_train)\n",
        "X_test_scaled = scaler.transform(X_test)"
      ],
      "metadata": {
        "id": "HeIMXy4MLI6k"
      },
      "execution_count": 103,
      "outputs": []
    },
    {
      "cell_type": "code",
      "source": [
        "# K-Nearest Neighbors Classifier with scale \n",
        "knn_scale = KNeighborsClassifier() \n",
        "knn_scale.fit(X_train_scaled,y_train)"
      ],
      "metadata": {
        "colab": {
          "base_uri": "https://localhost:8080/"
        },
        "id": "e2Vkn6xnLJDS",
        "outputId": "cf04c36c-30e6-4c41-979e-4ca91bad217e"
      },
      "execution_count": 104,
      "outputs": [
        {
          "output_type": "execute_result",
          "data": {
            "text/plain": [
              "KNeighborsClassifier()"
            ]
          },
          "metadata": {},
          "execution_count": 104
        }
      ]
    },
    {
      "cell_type": "code",
      "source": [
        "# accuracy\n",
        "y_pred=knn_scale.predict(X_test_scaled)\n",
        "print(\"Accuracy\",metrics.accuracy_score(y_test,y_pred))"
      ],
      "metadata": {
        "colab": {
          "base_uri": "https://localhost:8080/"
        },
        "id": "_sJ62StvLJNS",
        "outputId": "923a436f-f21f-4d96-b86d-25eaae02670b"
      },
      "execution_count": 105,
      "outputs": [
        {
          "output_type": "stream",
          "name": "stdout",
          "text": [
            "Accuracy 0.7849462365591398\n"
          ]
        }
      ]
    },
    {
      "cell_type": "markdown",
      "source": [
        "*Here, i have built a K-Nearest Neighbor model with 82% accuracy. And, based on the examination of feature scaling, it decreases the fit of the model to 78% accuracy by 4 percentages, and i have used the Standard Scaler method for the examination.*"
      ],
      "metadata": {
        "id": "Suc3cIG_LJbM"
      }
    },
    {
      "cell_type": "markdown",
      "source": [
        "# 4. Build a support vector machine model. Examine whether the scaling improves the fit of the model. You can choose any scaling method for the examination"
      ],
      "metadata": {
        "id": "q4tX9RY2CO1_"
      }
    },
    {
      "cell_type": "code",
      "source": [
        "# build model and train the model with training set\n",
        "from sklearn.svm import SVC\n",
        "svm = SVC(kernel='linear',random_state=42)\n",
        "svm.fit(X_train, y_train)"
      ],
      "metadata": {
        "id": "5SLB-xkKCTNM",
        "colab": {
          "base_uri": "https://localhost:8080/"
        },
        "outputId": "745b7a32-ffca-465c-9243-947309c934a1"
      },
      "execution_count": 75,
      "outputs": [
        {
          "output_type": "execute_result",
          "data": {
            "text/plain": [
              "SVC(kernel='linear', random_state=42)"
            ]
          },
          "metadata": {},
          "execution_count": 75
        }
      ]
    },
    {
      "cell_type": "code",
      "source": [
        "# accuracy\n",
        "y_pred=svm.predict(X_test)\n",
        "from sklearn import metrics\n",
        "print(\"Accuracy\",metrics.accuracy_score(y_test,y_pred))"
      ],
      "metadata": {
        "colab": {
          "base_uri": "https://localhost:8080/"
        },
        "id": "PuI5iREAEuDp",
        "outputId": "1b3669bd-49e3-401a-b16e-23cab9bad519"
      },
      "execution_count": 76,
      "outputs": [
        {
          "output_type": "stream",
          "name": "stdout",
          "text": [
            "Accuracy 0.8172043010752689\n"
          ]
        }
      ]
    },
    {
      "cell_type": "code",
      "source": [
        "# Standard Scaler\n",
        "from sklearn.preprocessing import StandardScaler\n",
        "scaler = StandardScaler()\n",
        "\n",
        "scaler.fit(X_train)\n",
        "X_train_scaled = scaler.transform(X_train)\n",
        "X_test_scaled = scaler.transform(X_test)"
      ],
      "metadata": {
        "id": "mKglPjAyEuMN"
      },
      "execution_count": 81,
      "outputs": []
    },
    {
      "cell_type": "code",
      "source": [
        "# Support Vector Machine with scale \n",
        "svm_scale = SVC() \n",
        "svm_scale.fit(X_train_scaled,y_train)"
      ],
      "metadata": {
        "colab": {
          "base_uri": "https://localhost:8080/"
        },
        "id": "dj7zgpSuEuT4",
        "outputId": "17c61587-e063-47f0-ad49-a0562d728396"
      },
      "execution_count": 82,
      "outputs": [
        {
          "output_type": "execute_result",
          "data": {
            "text/plain": [
              "SVC()"
            ]
          },
          "metadata": {},
          "execution_count": 82
        }
      ]
    },
    {
      "cell_type": "code",
      "source": [
        "# accuracy\n",
        "y_pred=svm_scale.predict(X_test_scaled)\n",
        "print(\"Accuracy\",metrics.accuracy_score(y_test,y_pred))"
      ],
      "metadata": {
        "colab": {
          "base_uri": "https://localhost:8080/"
        },
        "id": "ku5RCcmPEuXS",
        "outputId": "b768a2e9-f225-4475-bd06-18624f6578ef"
      },
      "execution_count": 83,
      "outputs": [
        {
          "output_type": "stream",
          "name": "stdout",
          "text": [
            "Accuracy 0.8064516129032258\n"
          ]
        }
      ]
    },
    {
      "cell_type": "markdown",
      "source": [
        "*Here, i have built a Support Vector Machine model with 82% accuracy. And, based on the examination of feature scaling, it decreases the fit of the model to 81% by  percentage, and i have used the Standard Scaler method for the examination.*"
      ],
      "metadata": {
        "id": "m-4A1QdDFiUT"
      }
    },
    {
      "cell_type": "markdown",
      "source": [
        "# 5. Build a decision tree model. Examine whether the scaling improves the fit of the model.You can choose any scaling method for the examination"
      ],
      "metadata": {
        "id": "71vglfNHCUCY"
      }
    },
    {
      "cell_type": "code",
      "source": [
        "# build model and train the model with training set\n",
        "from sklearn.tree import DecisionTreeClassifier\n",
        "dtree = DecisionTreeClassifier(max_depth=4,random_state=0)\n",
        "dtree.fit(X_train, y_train)"
      ],
      "metadata": {
        "id": "2vry2crSCXPW",
        "colab": {
          "base_uri": "https://localhost:8080/"
        },
        "outputId": "5addb5f1-2b78-42cf-ea73-edc577a86fac"
      },
      "execution_count": 85,
      "outputs": [
        {
          "output_type": "execute_result",
          "data": {
            "text/plain": [
              "DecisionTreeClassifier(max_depth=4, random_state=0)"
            ]
          },
          "metadata": {},
          "execution_count": 85
        }
      ]
    },
    {
      "cell_type": "code",
      "source": [
        "# accuracy\n",
        "y_pred=dtree.predict(X_test)\n",
        "from sklearn import metrics\n",
        "print(\"Accuracy\",metrics.accuracy_score(y_test,y_pred))"
      ],
      "metadata": {
        "colab": {
          "base_uri": "https://localhost:8080/"
        },
        "id": "tGx_JLU7H7hs",
        "outputId": "1b40c99d-b267-49a8-fc64-77f3a655b427"
      },
      "execution_count": 86,
      "outputs": [
        {
          "output_type": "stream",
          "name": "stdout",
          "text": [
            "Accuracy 0.8064516129032258\n"
          ]
        }
      ]
    },
    {
      "cell_type": "code",
      "source": [
        "# Standard Scaler\n",
        "from sklearn.preprocessing import StandardScaler\n",
        "scaler = StandardScaler()\n",
        "\n",
        "scaler.fit(X_train)\n",
        "X_train_scaled = scaler.transform(X_train)\n",
        "X_test_scaled = scaler.transform(X_test)"
      ],
      "metadata": {
        "id": "-D5PSzJTH7zD"
      },
      "execution_count": 87,
      "outputs": []
    },
    {
      "cell_type": "code",
      "source": [
        "# Decision Tree with scale \n",
        "dtree_scale = DecisionTreeClassifier() \n",
        "dtree_scale.fit(X_train_scaled,y_train)"
      ],
      "metadata": {
        "colab": {
          "base_uri": "https://localhost:8080/"
        },
        "id": "NwioMKA1H77i",
        "outputId": "3a8899ec-9f12-4e90-c358-2fb079f727af"
      },
      "execution_count": 88,
      "outputs": [
        {
          "output_type": "execute_result",
          "data": {
            "text/plain": [
              "DecisionTreeClassifier()"
            ]
          },
          "metadata": {},
          "execution_count": 88
        }
      ]
    },
    {
      "cell_type": "code",
      "source": [
        "# accuracy\n",
        "y_pred=dtree_scale.predict(X_test_scaled)\n",
        "print(\"Accuracy\",metrics.accuracy_score(y_test,y_pred))"
      ],
      "metadata": {
        "colab": {
          "base_uri": "https://localhost:8080/"
        },
        "id": "IT5wZ1q3IShC",
        "outputId": "4fab9176-980a-442a-e3a2-b969a68e7361"
      },
      "execution_count": 89,
      "outputs": [
        {
          "output_type": "stream",
          "name": "stdout",
          "text": [
            "Accuracy 0.8172043010752689\n"
          ]
        }
      ]
    },
    {
      "cell_type": "markdown",
      "source": [
        "*Here, i have built a Decision Tree model with 81% accuracy. And, based on the examination of feature scaling, it increases the fit of the model to 82% by 1 percentage, and i have used the Standard Scaler method for the examination.*"
      ],
      "metadata": {
        "id": "-jmjjIoyIngB"
      }
    },
    {
      "cell_type": "markdown",
      "source": [
        "# 6. Build a random forest model. Examine whether the scaling improves the fit of the model.You can choose any scaling method for the examination. "
      ],
      "metadata": {
        "id": "3HZzS-QDCX_A"
      }
    },
    {
      "cell_type": "code",
      "source": [
        "# build model and train the model with training set\n",
        "from sklearn.ensemble import RandomForestClassifier\n",
        "rforest = RandomForestClassifier(n_estimators=10,random_state=0)\n",
        "rforest.fit(X_train, y_train)"
      ],
      "metadata": {
        "id": "w-efLKLHCa6P",
        "colab": {
          "base_uri": "https://localhost:8080/"
        },
        "outputId": "53916514-8562-4da9-d7ce-b67b813739ab"
      },
      "execution_count": 91,
      "outputs": [
        {
          "output_type": "execute_result",
          "data": {
            "text/plain": [
              "RandomForestClassifier(n_estimators=10, random_state=0)"
            ]
          },
          "metadata": {},
          "execution_count": 91
        }
      ]
    },
    {
      "cell_type": "code",
      "source": [
        "# accuracy\n",
        "y_pred=rforest.predict(X_test)\n",
        "from sklearn import metrics\n",
        "print(\"Accuracy\",metrics.accuracy_score(y_test,y_pred))"
      ],
      "metadata": {
        "colab": {
          "base_uri": "https://localhost:8080/"
        },
        "id": "7sBLfy0iI_Fa",
        "outputId": "29e4e086-afba-4aa6-9480-57271fa66cec"
      },
      "execution_count": 92,
      "outputs": [
        {
          "output_type": "stream",
          "name": "stdout",
          "text": [
            "Accuracy 0.7849462365591398\n"
          ]
        }
      ]
    },
    {
      "cell_type": "code",
      "source": [
        "# Standard Scaler\n",
        "from sklearn.preprocessing import StandardScaler\n",
        "scaler = StandardScaler()\n",
        "\n",
        "scaler.fit(X_train)\n",
        "X_train_scaled = scaler.transform(X_train)\n",
        "X_test_scaled = scaler.transform(X_test)"
      ],
      "metadata": {
        "id": "nxrpkukBI_IS"
      },
      "execution_count": 93,
      "outputs": []
    },
    {
      "cell_type": "code",
      "source": [
        "# Random Forest with scale \n",
        "rforest_scale = RandomForestClassifier() \n",
        "rforest_scale.fit(X_train_scaled,y_train)"
      ],
      "metadata": {
        "colab": {
          "base_uri": "https://localhost:8080/"
        },
        "id": "rPycH5XLI_N2",
        "outputId": "5f6245ed-a48e-40db-a4f9-5635e53a7995"
      },
      "execution_count": 94,
      "outputs": [
        {
          "output_type": "execute_result",
          "data": {
            "text/plain": [
              "RandomForestClassifier()"
            ]
          },
          "metadata": {},
          "execution_count": 94
        }
      ]
    },
    {
      "cell_type": "code",
      "source": [
        "# accuracy\n",
        "y_pred=rforest_scale.predict(X_test_scaled)\n",
        "print(\"Accuracy\",metrics.accuracy_score(y_test,y_pred))"
      ],
      "metadata": {
        "colab": {
          "base_uri": "https://localhost:8080/"
        },
        "id": "hpj6m1J0I_YC",
        "outputId": "56a5a793-4246-4687-a745-abe7f477b5fc"
      },
      "execution_count": 95,
      "outputs": [
        {
          "output_type": "stream",
          "name": "stdout",
          "text": [
            "Accuracy 0.8064516129032258\n"
          ]
        }
      ]
    },
    {
      "cell_type": "markdown",
      "source": [
        "*Here, i have built a Random Forest model with 78% accuracy. And, based on the examination of feature scaling, it increases the fit of the model to 81% by 3 percentages, and i have used the Standard Scaler method for the examination.*"
      ],
      "metadata": {
        "id": "UP928IojCbno"
      }
    },
    {
      "cell_type": "markdown",
      "source": [
        "# 7. Among the five model you examined, which one do you think is the best fit for the data?"
      ],
      "metadata": {
        "id": "BHJZ5cgsCbyI"
      }
    },
    {
      "cell_type": "markdown",
      "source": [
        "*Among the five models from the examination, i have observed that the best fit model for the data are equally K-Nearest Neighbor and Support Vector Machine with small percent differences compared to others models without scalling. \n",
        "With Scaling, the best fit for the data is Logistic Regression and Decision Tree. One more observations all models generally works pretty well on this data without much differences in between.*"
      ],
      "metadata": {
        "id": "F0aEj3svCg3A"
      }
    },
    {
      "cell_type": "code",
      "source": [
        ""
      ],
      "metadata": {
        "id": "1KwvG9WUN0KQ"
      },
      "execution_count": null,
      "outputs": []
    }
  ]
}